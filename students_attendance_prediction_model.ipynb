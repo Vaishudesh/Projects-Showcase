{
 "cells": [
  {
   "cell_type": "code",
   "execution_count": 5,
   "id": "e1294c2e",
   "metadata": {},
   "outputs": [],
   "source": [
    "import pandas as pd\n",
    "import numpy as np\n",
    "import matplotlib.pyplot as plt\n",
    "from sklearn.model_selection import train_test_split\n",
    "\n",
    "from sklearn.metrics import confusion_matrix , classification_report , accuracy_score"
   ]
  },
  {
   "cell_type": "code",
   "execution_count": 6,
   "id": "5e600a24",
   "metadata": {},
   "outputs": [
    {
     "data": {
      "text/html": [
       "<div>\n",
       "<style scoped>\n",
       "    .dataframe tbody tr th:only-of-type {\n",
       "        vertical-align: middle;\n",
       "    }\n",
       "\n",
       "    .dataframe tbody tr th {\n",
       "        vertical-align: top;\n",
       "    }\n",
       "\n",
       "    .dataframe thead th {\n",
       "        text-align: right;\n",
       "    }\n",
       "</style>\n",
       "<table border=\"1\" class=\"dataframe\">\n",
       "  <thead>\n",
       "    <tr style=\"text-align: right;\">\n",
       "      <th></th>\n",
       "      <th>Full_Name</th>\n",
       "      <th>organisation_key</th>\n",
       "      <th>person_learner_key</th>\n",
       "      <th>gender_key</th>\n",
       "      <th>IsGifted</th>\n",
       "      <th>Present</th>\n",
       "      <th>Gender_Code</th>\n",
       "      <th>Student_Status</th>\n",
       "      <th>Behaviour_Points</th>\n",
       "      <th>IsBankHoliday</th>\n",
       "      <th>IsCompanyHoliday</th>\n",
       "      <th>IsFederalHoliday</th>\n",
       "      <th>IsLastDayOfMonth</th>\n",
       "      <th>IsWeekday</th>\n",
       "      <th>IsWeekend</th>\n",
       "      <th>IsWorkday</th>\n",
       "      <th>MonthNumberOfYear</th>\n",
       "      <th>DSEN_Provision_Code</th>\n",
       "    </tr>\n",
       "  </thead>\n",
       "  <tbody>\n",
       "    <tr>\n",
       "      <th>0</th>\n",
       "      <td>Aadam Ali</td>\n",
       "      <td>2</td>\n",
       "      <td>2531</td>\n",
       "      <td>1</td>\n",
       "      <td>NaN</td>\n",
       "      <td>0</td>\n",
       "      <td>M</td>\n",
       "      <td>On Roll</td>\n",
       "      <td>0.0</td>\n",
       "      <td>Y</td>\n",
       "      <td>Y</td>\n",
       "      <td>Y</td>\n",
       "      <td>N</td>\n",
       "      <td>Y</td>\n",
       "      <td>N</td>\n",
       "      <td>N</td>\n",
       "      <td>7</td>\n",
       "      <td>K</td>\n",
       "    </tr>\n",
       "    <tr>\n",
       "      <th>1</th>\n",
       "      <td>Aadam Ali</td>\n",
       "      <td>2</td>\n",
       "      <td>2531</td>\n",
       "      <td>1</td>\n",
       "      <td>NaN</td>\n",
       "      <td>0</td>\n",
       "      <td>M</td>\n",
       "      <td>On Roll</td>\n",
       "      <td>0.0</td>\n",
       "      <td>Y</td>\n",
       "      <td>Y</td>\n",
       "      <td>Y</td>\n",
       "      <td>Y</td>\n",
       "      <td>Y</td>\n",
       "      <td>N</td>\n",
       "      <td>N</td>\n",
       "      <td>7</td>\n",
       "      <td>K</td>\n",
       "    </tr>\n",
       "    <tr>\n",
       "      <th>2</th>\n",
       "      <td>Aadam Ali</td>\n",
       "      <td>2</td>\n",
       "      <td>2531</td>\n",
       "      <td>1</td>\n",
       "      <td>NaN</td>\n",
       "      <td>1</td>\n",
       "      <td>M</td>\n",
       "      <td>On Roll</td>\n",
       "      <td>1.0</td>\n",
       "      <td>N</td>\n",
       "      <td>N</td>\n",
       "      <td>N</td>\n",
       "      <td>N</td>\n",
       "      <td>Y</td>\n",
       "      <td>N</td>\n",
       "      <td>Y</td>\n",
       "      <td>7</td>\n",
       "      <td>K</td>\n",
       "    </tr>\n",
       "    <tr>\n",
       "      <th>3</th>\n",
       "      <td>Aadam Ali</td>\n",
       "      <td>2</td>\n",
       "      <td>2531</td>\n",
       "      <td>1</td>\n",
       "      <td>NaN</td>\n",
       "      <td>0</td>\n",
       "      <td>M</td>\n",
       "      <td>On Roll</td>\n",
       "      <td>1.0</td>\n",
       "      <td>N</td>\n",
       "      <td>N</td>\n",
       "      <td>N</td>\n",
       "      <td>Y</td>\n",
       "      <td>Y</td>\n",
       "      <td>N</td>\n",
       "      <td>Y</td>\n",
       "      <td>7</td>\n",
       "      <td>K</td>\n",
       "    </tr>\n",
       "    <tr>\n",
       "      <th>4</th>\n",
       "      <td>Aadam Ali</td>\n",
       "      <td>2</td>\n",
       "      <td>2531</td>\n",
       "      <td>1</td>\n",
       "      <td>NaN</td>\n",
       "      <td>1</td>\n",
       "      <td>M</td>\n",
       "      <td>On Roll</td>\n",
       "      <td>2.0</td>\n",
       "      <td>N</td>\n",
       "      <td>N</td>\n",
       "      <td>N</td>\n",
       "      <td>N</td>\n",
       "      <td>Y</td>\n",
       "      <td>N</td>\n",
       "      <td>Y</td>\n",
       "      <td>7</td>\n",
       "      <td>K</td>\n",
       "    </tr>\n",
       "    <tr>\n",
       "      <th>...</th>\n",
       "      <td>...</td>\n",
       "      <td>...</td>\n",
       "      <td>...</td>\n",
       "      <td>...</td>\n",
       "      <td>...</td>\n",
       "      <td>...</td>\n",
       "      <td>...</td>\n",
       "      <td>...</td>\n",
       "      <td>...</td>\n",
       "      <td>...</td>\n",
       "      <td>...</td>\n",
       "      <td>...</td>\n",
       "      <td>...</td>\n",
       "      <td>...</td>\n",
       "      <td>...</td>\n",
       "      <td>...</td>\n",
       "      <td>...</td>\n",
       "      <td>...</td>\n",
       "    </tr>\n",
       "    <tr>\n",
       "      <th>10603</th>\n",
       "      <td>Zoya Hussain</td>\n",
       "      <td>1</td>\n",
       "      <td>1246</td>\n",
       "      <td>2</td>\n",
       "      <td>NaN</td>\n",
       "      <td>1</td>\n",
       "      <td>F</td>\n",
       "      <td>On Roll</td>\n",
       "      <td>NaN</td>\n",
       "      <td>N</td>\n",
       "      <td>N</td>\n",
       "      <td>N</td>\n",
       "      <td>Y</td>\n",
       "      <td>N</td>\n",
       "      <td>Y</td>\n",
       "      <td>N</td>\n",
       "      <td>7</td>\n",
       "      <td>NaN</td>\n",
       "    </tr>\n",
       "    <tr>\n",
       "      <th>10604</th>\n",
       "      <td>Zoya Rahman</td>\n",
       "      <td>4</td>\n",
       "      <td>4469</td>\n",
       "      <td>2</td>\n",
       "      <td>NaN</td>\n",
       "      <td>0</td>\n",
       "      <td>F</td>\n",
       "      <td>On Roll</td>\n",
       "      <td>1.0</td>\n",
       "      <td>Y</td>\n",
       "      <td>Y</td>\n",
       "      <td>Y</td>\n",
       "      <td>N</td>\n",
       "      <td>Y</td>\n",
       "      <td>N</td>\n",
       "      <td>N</td>\n",
       "      <td>7</td>\n",
       "      <td>N</td>\n",
       "    </tr>\n",
       "    <tr>\n",
       "      <th>10605</th>\n",
       "      <td>Zoya Rahman</td>\n",
       "      <td>4</td>\n",
       "      <td>4469</td>\n",
       "      <td>2</td>\n",
       "      <td>NaN</td>\n",
       "      <td>1</td>\n",
       "      <td>F</td>\n",
       "      <td>On Roll</td>\n",
       "      <td>1.0</td>\n",
       "      <td>N</td>\n",
       "      <td>N</td>\n",
       "      <td>N</td>\n",
       "      <td>Y</td>\n",
       "      <td>Y</td>\n",
       "      <td>N</td>\n",
       "      <td>Y</td>\n",
       "      <td>7</td>\n",
       "      <td>N</td>\n",
       "    </tr>\n",
       "    <tr>\n",
       "      <th>10606</th>\n",
       "      <td>Zoya Waseem</td>\n",
       "      <td>5</td>\n",
       "      <td>4482</td>\n",
       "      <td>2</td>\n",
       "      <td>NaN</td>\n",
       "      <td>1</td>\n",
       "      <td>F</td>\n",
       "      <td>On Roll</td>\n",
       "      <td>NaN</td>\n",
       "      <td>N</td>\n",
       "      <td>N</td>\n",
       "      <td>N</td>\n",
       "      <td>N</td>\n",
       "      <td>Y</td>\n",
       "      <td>N</td>\n",
       "      <td>Y</td>\n",
       "      <td>7</td>\n",
       "      <td>NaN</td>\n",
       "    </tr>\n",
       "    <tr>\n",
       "      <th>10607</th>\n",
       "      <td>Zoya Waseem</td>\n",
       "      <td>5</td>\n",
       "      <td>4482</td>\n",
       "      <td>2</td>\n",
       "      <td>NaN</td>\n",
       "      <td>0</td>\n",
       "      <td>F</td>\n",
       "      <td>On Roll</td>\n",
       "      <td>NaN</td>\n",
       "      <td>N</td>\n",
       "      <td>N</td>\n",
       "      <td>N</td>\n",
       "      <td>Y</td>\n",
       "      <td>Y</td>\n",
       "      <td>N</td>\n",
       "      <td>Y</td>\n",
       "      <td>7</td>\n",
       "      <td>NaN</td>\n",
       "    </tr>\n",
       "  </tbody>\n",
       "</table>\n",
       "<p>10608 rows × 18 columns</p>\n",
       "</div>"
      ],
      "text/plain": [
       "          Full_Name  organisation_key  person_learner_key  gender_key  \\\n",
       "0         Aadam Ali                 2                2531           1   \n",
       "1         Aadam Ali                 2                2531           1   \n",
       "2         Aadam Ali                 2                2531           1   \n",
       "3         Aadam Ali                 2                2531           1   \n",
       "4         Aadam Ali                 2                2531           1   \n",
       "...             ...               ...                 ...         ...   \n",
       "10603  Zoya Hussain                 1                1246           2   \n",
       "10604   Zoya Rahman                 4                4469           2   \n",
       "10605   Zoya Rahman                 4                4469           2   \n",
       "10606   Zoya Waseem                 5                4482           2   \n",
       "10607   Zoya Waseem                 5                4482           2   \n",
       "\n",
       "       IsGifted  Present Gender_Code Student_Status  Behaviour_Points  \\\n",
       "0           NaN        0           M        On Roll               0.0   \n",
       "1           NaN        0           M        On Roll               0.0   \n",
       "2           NaN        1           M        On Roll               1.0   \n",
       "3           NaN        0           M        On Roll               1.0   \n",
       "4           NaN        1           M        On Roll               2.0   \n",
       "...         ...      ...         ...            ...               ...   \n",
       "10603       NaN        1           F        On Roll               NaN   \n",
       "10604       NaN        0           F        On Roll               1.0   \n",
       "10605       NaN        1           F        On Roll               1.0   \n",
       "10606       NaN        1           F        On Roll               NaN   \n",
       "10607       NaN        0           F        On Roll               NaN   \n",
       "\n",
       "      IsBankHoliday IsCompanyHoliday IsFederalHoliday IsLastDayOfMonth  \\\n",
       "0                 Y                Y                Y                N   \n",
       "1                 Y                Y                Y                Y   \n",
       "2                 N                N                N                N   \n",
       "3                 N                N                N                Y   \n",
       "4                 N                N                N                N   \n",
       "...             ...              ...              ...              ...   \n",
       "10603             N                N                N                Y   \n",
       "10604             Y                Y                Y                N   \n",
       "10605             N                N                N                Y   \n",
       "10606             N                N                N                N   \n",
       "10607             N                N                N                Y   \n",
       "\n",
       "      IsWeekday IsWeekend IsWorkday  MonthNumberOfYear DSEN_Provision_Code  \n",
       "0             Y         N         N                  7                   K  \n",
       "1             Y         N         N                  7                   K  \n",
       "2             Y         N         Y                  7                   K  \n",
       "3             Y         N         Y                  7                   K  \n",
       "4             Y         N         Y                  7                   K  \n",
       "...         ...       ...       ...                ...                 ...  \n",
       "10603         N         Y         N                  7                 NaN  \n",
       "10604         Y         N         N                  7                   N  \n",
       "10605         Y         N         Y                  7                   N  \n",
       "10606         Y         N         Y                  7                 NaN  \n",
       "10607         Y         N         Y                  7                 NaN  \n",
       "\n",
       "[10608 rows x 18 columns]"
      ]
     },
     "execution_count": 6,
     "metadata": {},
     "output_type": "execute_result"
    }
   ],
   "source": [
    "df1 = pd.read_csv('Final_Data.csv')\n",
    "df1"
   ]
  },
  {
   "cell_type": "code",
   "execution_count": 7,
   "id": "60ec6ded",
   "metadata": {},
   "outputs": [
    {
     "data": {
      "text/plain": [
       "Index(['Full_Name', 'organisation_key', 'person_learner_key', 'gender_key',\n",
       "       'IsGifted', 'Present', 'Gender_Code', 'Student_Status',\n",
       "       'Behaviour_Points', 'IsBankHoliday', 'IsCompanyHoliday',\n",
       "       'IsFederalHoliday', 'IsLastDayOfMonth', 'IsWeekday', 'IsWeekend',\n",
       "       'IsWorkday', 'MonthNumberOfYear', 'DSEN_Provision_Code'],\n",
       "      dtype='object')"
      ]
     },
     "execution_count": 7,
     "metadata": {},
     "output_type": "execute_result"
    }
   ],
   "source": [
    "df1.columns"
   ]
  },
  {
   "cell_type": "code",
   "execution_count": 8,
   "id": "c0cfdf28",
   "metadata": {},
   "outputs": [
    {
     "data": {
      "text/plain": [
       "Full_Name               object\n",
       "organisation_key         int64\n",
       "person_learner_key       int64\n",
       "gender_key               int64\n",
       "IsGifted               float64\n",
       "Present                  int64\n",
       "Gender_Code             object\n",
       "Student_Status          object\n",
       "Behaviour_Points       float64\n",
       "IsBankHoliday           object\n",
       "IsCompanyHoliday        object\n",
       "IsFederalHoliday        object\n",
       "IsLastDayOfMonth        object\n",
       "IsWeekday               object\n",
       "IsWeekend               object\n",
       "IsWorkday               object\n",
       "MonthNumberOfYear        int64\n",
       "DSEN_Provision_Code     object\n",
       "dtype: object"
      ]
     },
     "execution_count": 8,
     "metadata": {},
     "output_type": "execute_result"
    }
   ],
   "source": [
    "df1.dtypes"
   ]
  },
  {
   "cell_type": "code",
   "execution_count": 9,
   "id": "767ba68a",
   "metadata": {},
   "outputs": [
    {
     "data": {
      "text/plain": [
       "Full_Name               0.00\n",
       "organisation_key        0.00\n",
       "person_learner_key      0.00\n",
       "gender_key              0.00\n",
       "IsGifted               93.94\n",
       "Present                 0.00\n",
       "Gender_Code             0.00\n",
       "Student_Status          0.00\n",
       "Behaviour_Points       27.00\n",
       "IsBankHoliday           0.00\n",
       "IsCompanyHoliday        0.00\n",
       "IsFederalHoliday        0.00\n",
       "IsLastDayOfMonth        0.00\n",
       "IsWeekday               0.00\n",
       "IsWeekend               0.00\n",
       "IsWorkday               0.00\n",
       "MonthNumberOfYear       0.00\n",
       "DSEN_Provision_Code    63.12\n",
       "dtype: float64"
      ]
     },
     "execution_count": 9,
     "metadata": {},
     "output_type": "execute_result"
    }
   ],
   "source": [
    "df1.isnull().sum()/100"
   ]
  },
  {
   "cell_type": "code",
   "execution_count": 10,
   "id": "c5618079",
   "metadata": {},
   "outputs": [
    {
     "data": {
      "text/html": [
       "<div>\n",
       "<style scoped>\n",
       "    .dataframe tbody tr th:only-of-type {\n",
       "        vertical-align: middle;\n",
       "    }\n",
       "\n",
       "    .dataframe tbody tr th {\n",
       "        vertical-align: top;\n",
       "    }\n",
       "\n",
       "    .dataframe thead th {\n",
       "        text-align: right;\n",
       "    }\n",
       "</style>\n",
       "<table border=\"1\" class=\"dataframe\">\n",
       "  <thead>\n",
       "    <tr style=\"text-align: right;\">\n",
       "      <th></th>\n",
       "      <th>Full_Name</th>\n",
       "      <th>organisation_key</th>\n",
       "      <th>person_learner_key</th>\n",
       "      <th>gender_key</th>\n",
       "      <th>Present</th>\n",
       "      <th>Gender_Code</th>\n",
       "      <th>Student_Status</th>\n",
       "      <th>Behaviour_Points</th>\n",
       "      <th>IsBankHoliday</th>\n",
       "      <th>IsCompanyHoliday</th>\n",
       "      <th>IsFederalHoliday</th>\n",
       "      <th>IsLastDayOfMonth</th>\n",
       "      <th>IsWeekday</th>\n",
       "      <th>IsWeekend</th>\n",
       "      <th>IsWorkday</th>\n",
       "      <th>MonthNumberOfYear</th>\n",
       "    </tr>\n",
       "  </thead>\n",
       "  <tbody>\n",
       "    <tr>\n",
       "      <th>0</th>\n",
       "      <td>Aadam Ali</td>\n",
       "      <td>2</td>\n",
       "      <td>2531</td>\n",
       "      <td>1</td>\n",
       "      <td>0</td>\n",
       "      <td>M</td>\n",
       "      <td>On Roll</td>\n",
       "      <td>0.0</td>\n",
       "      <td>Y</td>\n",
       "      <td>Y</td>\n",
       "      <td>Y</td>\n",
       "      <td>N</td>\n",
       "      <td>Y</td>\n",
       "      <td>N</td>\n",
       "      <td>N</td>\n",
       "      <td>7</td>\n",
       "    </tr>\n",
       "    <tr>\n",
       "      <th>1</th>\n",
       "      <td>Aadam Ali</td>\n",
       "      <td>2</td>\n",
       "      <td>2531</td>\n",
       "      <td>1</td>\n",
       "      <td>0</td>\n",
       "      <td>M</td>\n",
       "      <td>On Roll</td>\n",
       "      <td>0.0</td>\n",
       "      <td>Y</td>\n",
       "      <td>Y</td>\n",
       "      <td>Y</td>\n",
       "      <td>Y</td>\n",
       "      <td>Y</td>\n",
       "      <td>N</td>\n",
       "      <td>N</td>\n",
       "      <td>7</td>\n",
       "    </tr>\n",
       "    <tr>\n",
       "      <th>2</th>\n",
       "      <td>Aadam Ali</td>\n",
       "      <td>2</td>\n",
       "      <td>2531</td>\n",
       "      <td>1</td>\n",
       "      <td>1</td>\n",
       "      <td>M</td>\n",
       "      <td>On Roll</td>\n",
       "      <td>1.0</td>\n",
       "      <td>N</td>\n",
       "      <td>N</td>\n",
       "      <td>N</td>\n",
       "      <td>N</td>\n",
       "      <td>Y</td>\n",
       "      <td>N</td>\n",
       "      <td>Y</td>\n",
       "      <td>7</td>\n",
       "    </tr>\n",
       "    <tr>\n",
       "      <th>3</th>\n",
       "      <td>Aadam Ali</td>\n",
       "      <td>2</td>\n",
       "      <td>2531</td>\n",
       "      <td>1</td>\n",
       "      <td>0</td>\n",
       "      <td>M</td>\n",
       "      <td>On Roll</td>\n",
       "      <td>1.0</td>\n",
       "      <td>N</td>\n",
       "      <td>N</td>\n",
       "      <td>N</td>\n",
       "      <td>Y</td>\n",
       "      <td>Y</td>\n",
       "      <td>N</td>\n",
       "      <td>Y</td>\n",
       "      <td>7</td>\n",
       "    </tr>\n",
       "    <tr>\n",
       "      <th>4</th>\n",
       "      <td>Aadam Ali</td>\n",
       "      <td>2</td>\n",
       "      <td>2531</td>\n",
       "      <td>1</td>\n",
       "      <td>1</td>\n",
       "      <td>M</td>\n",
       "      <td>On Roll</td>\n",
       "      <td>2.0</td>\n",
       "      <td>N</td>\n",
       "      <td>N</td>\n",
       "      <td>N</td>\n",
       "      <td>N</td>\n",
       "      <td>Y</td>\n",
       "      <td>N</td>\n",
       "      <td>Y</td>\n",
       "      <td>7</td>\n",
       "    </tr>\n",
       "    <tr>\n",
       "      <th>...</th>\n",
       "      <td>...</td>\n",
       "      <td>...</td>\n",
       "      <td>...</td>\n",
       "      <td>...</td>\n",
       "      <td>...</td>\n",
       "      <td>...</td>\n",
       "      <td>...</td>\n",
       "      <td>...</td>\n",
       "      <td>...</td>\n",
       "      <td>...</td>\n",
       "      <td>...</td>\n",
       "      <td>...</td>\n",
       "      <td>...</td>\n",
       "      <td>...</td>\n",
       "      <td>...</td>\n",
       "      <td>...</td>\n",
       "    </tr>\n",
       "    <tr>\n",
       "      <th>10603</th>\n",
       "      <td>Zoya Hussain</td>\n",
       "      <td>1</td>\n",
       "      <td>1246</td>\n",
       "      <td>2</td>\n",
       "      <td>1</td>\n",
       "      <td>F</td>\n",
       "      <td>On Roll</td>\n",
       "      <td>NaN</td>\n",
       "      <td>N</td>\n",
       "      <td>N</td>\n",
       "      <td>N</td>\n",
       "      <td>Y</td>\n",
       "      <td>N</td>\n",
       "      <td>Y</td>\n",
       "      <td>N</td>\n",
       "      <td>7</td>\n",
       "    </tr>\n",
       "    <tr>\n",
       "      <th>10604</th>\n",
       "      <td>Zoya Rahman</td>\n",
       "      <td>4</td>\n",
       "      <td>4469</td>\n",
       "      <td>2</td>\n",
       "      <td>0</td>\n",
       "      <td>F</td>\n",
       "      <td>On Roll</td>\n",
       "      <td>1.0</td>\n",
       "      <td>Y</td>\n",
       "      <td>Y</td>\n",
       "      <td>Y</td>\n",
       "      <td>N</td>\n",
       "      <td>Y</td>\n",
       "      <td>N</td>\n",
       "      <td>N</td>\n",
       "      <td>7</td>\n",
       "    </tr>\n",
       "    <tr>\n",
       "      <th>10605</th>\n",
       "      <td>Zoya Rahman</td>\n",
       "      <td>4</td>\n",
       "      <td>4469</td>\n",
       "      <td>2</td>\n",
       "      <td>1</td>\n",
       "      <td>F</td>\n",
       "      <td>On Roll</td>\n",
       "      <td>1.0</td>\n",
       "      <td>N</td>\n",
       "      <td>N</td>\n",
       "      <td>N</td>\n",
       "      <td>Y</td>\n",
       "      <td>Y</td>\n",
       "      <td>N</td>\n",
       "      <td>Y</td>\n",
       "      <td>7</td>\n",
       "    </tr>\n",
       "    <tr>\n",
       "      <th>10606</th>\n",
       "      <td>Zoya Waseem</td>\n",
       "      <td>5</td>\n",
       "      <td>4482</td>\n",
       "      <td>2</td>\n",
       "      <td>1</td>\n",
       "      <td>F</td>\n",
       "      <td>On Roll</td>\n",
       "      <td>NaN</td>\n",
       "      <td>N</td>\n",
       "      <td>N</td>\n",
       "      <td>N</td>\n",
       "      <td>N</td>\n",
       "      <td>Y</td>\n",
       "      <td>N</td>\n",
       "      <td>Y</td>\n",
       "      <td>7</td>\n",
       "    </tr>\n",
       "    <tr>\n",
       "      <th>10607</th>\n",
       "      <td>Zoya Waseem</td>\n",
       "      <td>5</td>\n",
       "      <td>4482</td>\n",
       "      <td>2</td>\n",
       "      <td>0</td>\n",
       "      <td>F</td>\n",
       "      <td>On Roll</td>\n",
       "      <td>NaN</td>\n",
       "      <td>N</td>\n",
       "      <td>N</td>\n",
       "      <td>N</td>\n",
       "      <td>Y</td>\n",
       "      <td>Y</td>\n",
       "      <td>N</td>\n",
       "      <td>Y</td>\n",
       "      <td>7</td>\n",
       "    </tr>\n",
       "  </tbody>\n",
       "</table>\n",
       "<p>10608 rows × 16 columns</p>\n",
       "</div>"
      ],
      "text/plain": [
       "          Full_Name  organisation_key  person_learner_key  gender_key  \\\n",
       "0         Aadam Ali                 2                2531           1   \n",
       "1         Aadam Ali                 2                2531           1   \n",
       "2         Aadam Ali                 2                2531           1   \n",
       "3         Aadam Ali                 2                2531           1   \n",
       "4         Aadam Ali                 2                2531           1   \n",
       "...             ...               ...                 ...         ...   \n",
       "10603  Zoya Hussain                 1                1246           2   \n",
       "10604   Zoya Rahman                 4                4469           2   \n",
       "10605   Zoya Rahman                 4                4469           2   \n",
       "10606   Zoya Waseem                 5                4482           2   \n",
       "10607   Zoya Waseem                 5                4482           2   \n",
       "\n",
       "       Present Gender_Code Student_Status  Behaviour_Points IsBankHoliday  \\\n",
       "0            0           M        On Roll               0.0             Y   \n",
       "1            0           M        On Roll               0.0             Y   \n",
       "2            1           M        On Roll               1.0             N   \n",
       "3            0           M        On Roll               1.0             N   \n",
       "4            1           M        On Roll               2.0             N   \n",
       "...        ...         ...            ...               ...           ...   \n",
       "10603        1           F        On Roll               NaN             N   \n",
       "10604        0           F        On Roll               1.0             Y   \n",
       "10605        1           F        On Roll               1.0             N   \n",
       "10606        1           F        On Roll               NaN             N   \n",
       "10607        0           F        On Roll               NaN             N   \n",
       "\n",
       "      IsCompanyHoliday IsFederalHoliday IsLastDayOfMonth IsWeekday IsWeekend  \\\n",
       "0                    Y                Y                N         Y         N   \n",
       "1                    Y                Y                Y         Y         N   \n",
       "2                    N                N                N         Y         N   \n",
       "3                    N                N                Y         Y         N   \n",
       "4                    N                N                N         Y         N   \n",
       "...                ...              ...              ...       ...       ...   \n",
       "10603                N                N                Y         N         Y   \n",
       "10604                Y                Y                N         Y         N   \n",
       "10605                N                N                Y         Y         N   \n",
       "10606                N                N                N         Y         N   \n",
       "10607                N                N                Y         Y         N   \n",
       "\n",
       "      IsWorkday  MonthNumberOfYear  \n",
       "0             N                  7  \n",
       "1             N                  7  \n",
       "2             Y                  7  \n",
       "3             Y                  7  \n",
       "4             Y                  7  \n",
       "...         ...                ...  \n",
       "10603         N                  7  \n",
       "10604         N                  7  \n",
       "10605         Y                  7  \n",
       "10606         Y                  7  \n",
       "10607         Y                  7  \n",
       "\n",
       "[10608 rows x 16 columns]"
      ]
     },
     "execution_count": 10,
     "metadata": {},
     "output_type": "execute_result"
    }
   ],
   "source": [
    "df2 = df1.drop(['IsGifted', 'DSEN_Provision_Code'], axis = 1)\n",
    "df2"
   ]
  },
  {
   "cell_type": "code",
   "execution_count": 11,
   "id": "46975688",
   "metadata": {},
   "outputs": [
    {
     "data": {
      "text/plain": [
       "Index(['Full_Name', 'organisation_key', 'person_learner_key', 'gender_key',\n",
       "       'Present', 'Gender_Code', 'Student_Status', 'Behaviour_Points',\n",
       "       'IsBankHoliday', 'IsCompanyHoliday', 'IsFederalHoliday',\n",
       "       'IsLastDayOfMonth', 'IsWeekday', 'IsWeekend', 'IsWorkday',\n",
       "       'MonthNumberOfYear'],\n",
       "      dtype='object')"
      ]
     },
     "execution_count": 11,
     "metadata": {},
     "output_type": "execute_result"
    }
   ],
   "source": [
    "df2.columns"
   ]
  },
  {
   "cell_type": "code",
   "execution_count": 12,
   "id": "8b6df5ef",
   "metadata": {},
   "outputs": [
    {
     "data": {
      "text/plain": [
       "array([2, 1, 4, 5, 6, 3], dtype=int64)"
      ]
     },
     "execution_count": 12,
     "metadata": {},
     "output_type": "execute_result"
    }
   ],
   "source": [
    "df2.organisation_key.unique()"
   ]
  },
  {
   "cell_type": "code",
   "execution_count": 13,
   "id": "7805bcc7",
   "metadata": {},
   "outputs": [
    {
     "data": {
      "text/plain": [
       "array([1, 2], dtype=int64)"
      ]
     },
     "execution_count": 13,
     "metadata": {},
     "output_type": "execute_result"
    }
   ],
   "source": [
    "df2.gender_key.unique()"
   ]
  },
  {
   "cell_type": "code",
   "execution_count": 14,
   "id": "ba54674b",
   "metadata": {},
   "outputs": [
    {
     "data": {
      "text/plain": [
       "array([0, 1], dtype=int64)"
      ]
     },
     "execution_count": 14,
     "metadata": {},
     "output_type": "execute_result"
    }
   ],
   "source": [
    "df2.Present.unique()"
   ]
  },
  {
   "cell_type": "code",
   "execution_count": 15,
   "id": "c3dc2a1c",
   "metadata": {},
   "outputs": [
    {
     "data": {
      "text/plain": [
       "array(['M', 'F'], dtype=object)"
      ]
     },
     "execution_count": 15,
     "metadata": {},
     "output_type": "execute_result"
    }
   ],
   "source": [
    "df2.Gender_Code.unique()"
   ]
  },
  {
   "cell_type": "code",
   "execution_count": 16,
   "id": "1204018b",
   "metadata": {},
   "outputs": [
    {
     "data": {
      "text/plain": [
       "array([1, 0], dtype=int64)"
      ]
     },
     "execution_count": 16,
     "metadata": {},
     "output_type": "execute_result"
    }
   ],
   "source": [
    "df2.Gender_Code = df2.Gender_Code.apply(lambda x : 1 if x == 'M' else 0) \n",
    "df2.Gender_Code.unique()"
   ]
  },
  {
   "cell_type": "code",
   "execution_count": 17,
   "id": "387b3f57",
   "metadata": {},
   "outputs": [
    {
     "data": {
      "text/plain": [
       "On Roll    9393\n",
       "Leaver     1214\n",
       "1             1\n",
       "Name: Student_Status, dtype: int64"
      ]
     },
     "execution_count": 17,
     "metadata": {},
     "output_type": "execute_result"
    }
   ],
   "source": [
    "df2.Student_Status.value_counts()"
   ]
  },
  {
   "cell_type": "code",
   "execution_count": 18,
   "id": "f6593d99",
   "metadata": {},
   "outputs": [],
   "source": [
    "df2.Student_Status = df2.Student_Status.apply(lambda x : 1 if x == 'On Roll' else 0)"
   ]
  },
  {
   "cell_type": "code",
   "execution_count": 19,
   "id": "2e632b98",
   "metadata": {},
   "outputs": [
    {
     "data": {
      "text/plain": [
       "array([1, 0], dtype=int64)"
      ]
     },
     "execution_count": 19,
     "metadata": {},
     "output_type": "execute_result"
    }
   ],
   "source": [
    "df2.Student_Status.unique()"
   ]
  },
  {
   "cell_type": "code",
   "execution_count": 20,
   "id": "e7eca816",
   "metadata": {},
   "outputs": [
    {
     "data": {
      "text/plain": [
       "array([ 0.,  1.,  2.,  3.,  4.,  6., nan, 10.,  5.,  8.])"
      ]
     },
     "execution_count": 20,
     "metadata": {},
     "output_type": "execute_result"
    }
   ],
   "source": [
    "df2.Behaviour_Points.unique()"
   ]
  },
  {
   "cell_type": "code",
   "execution_count": 21,
   "id": "16fa1385",
   "metadata": {},
   "outputs": [
    {
     "data": {
      "text/plain": [
       "1.0     0.356854\n",
       "0.0     0.267324\n",
       "2.0     0.160597\n",
       "3.0     0.108498\n",
       "4.0     0.100910\n",
       "5.0     0.003794\n",
       "6.0     0.000759\n",
       "10.0    0.000759\n",
       "8.0     0.000506\n",
       "Name: Behaviour_Points, dtype: float64"
      ]
     },
     "execution_count": 21,
     "metadata": {},
     "output_type": "execute_result"
    }
   ],
   "source": [
    "df2.Behaviour_Points.value_counts(normalize = 'True')"
   ]
  },
  {
   "cell_type": "code",
   "execution_count": 22,
   "id": "31053045",
   "metadata": {},
   "outputs": [
    {
     "data": {
      "text/plain": [
       "array(['Y', 'N'], dtype=object)"
      ]
     },
     "execution_count": 22,
     "metadata": {},
     "output_type": "execute_result"
    }
   ],
   "source": [
    "df2.IsBankHoliday.unique()"
   ]
  },
  {
   "cell_type": "code",
   "execution_count": 23,
   "id": "f5407b6a",
   "metadata": {},
   "outputs": [],
   "source": [
    "df2.IsBankHoliday = df2.IsBankHoliday.apply(lambda x : 1 if x == 'Y' else 0)"
   ]
  },
  {
   "cell_type": "code",
   "execution_count": 24,
   "id": "d2c09929",
   "metadata": {},
   "outputs": [
    {
     "data": {
      "text/plain": [
       "array([1, 0], dtype=int64)"
      ]
     },
     "execution_count": 24,
     "metadata": {},
     "output_type": "execute_result"
    }
   ],
   "source": [
    "df2.IsBankHoliday.unique()"
   ]
  },
  {
   "cell_type": "code",
   "execution_count": 25,
   "id": "7a81822a",
   "metadata": {},
   "outputs": [
    {
     "data": {
      "text/plain": [
       "array(['Y', 'N'], dtype=object)"
      ]
     },
     "execution_count": 25,
     "metadata": {},
     "output_type": "execute_result"
    }
   ],
   "source": [
    "df2.IsCompanyHoliday.unique()"
   ]
  },
  {
   "cell_type": "code",
   "execution_count": 26,
   "id": "c3ce61e0",
   "metadata": {},
   "outputs": [],
   "source": [
    "df2.IsCompanyHoliday = df2.IsCompanyHoliday.apply(lambda x : 1 if x == 'Y' else 0)"
   ]
  },
  {
   "cell_type": "code",
   "execution_count": 27,
   "id": "04106255",
   "metadata": {},
   "outputs": [
    {
     "data": {
      "text/plain": [
       "array([1, 0], dtype=int64)"
      ]
     },
     "execution_count": 27,
     "metadata": {},
     "output_type": "execute_result"
    }
   ],
   "source": [
    "df2.IsCompanyHoliday.unique()"
   ]
  },
  {
   "cell_type": "code",
   "execution_count": 28,
   "id": "6ced1743",
   "metadata": {},
   "outputs": [],
   "source": [
    "df2.IsBankHoliday = df2.IsBankHoliday.apply(lambda x : 1 if x == 'Y' else 0)"
   ]
  },
  {
   "cell_type": "code",
   "execution_count": 29,
   "id": "825cded5",
   "metadata": {},
   "outputs": [
    {
     "data": {
      "text/plain": [
       "array(['Y', 'N'], dtype=object)"
      ]
     },
     "execution_count": 29,
     "metadata": {},
     "output_type": "execute_result"
    }
   ],
   "source": [
    "df2.IsFederalHoliday.unique()"
   ]
  },
  {
   "cell_type": "code",
   "execution_count": 30,
   "id": "afe7f0b8",
   "metadata": {},
   "outputs": [],
   "source": [
    "df2.IsFederalHoliday = df2.IsFederalHoliday.apply(lambda x : 1 if x == 'Y' else 0)"
   ]
  },
  {
   "cell_type": "code",
   "execution_count": 31,
   "id": "c58a8a5f",
   "metadata": {},
   "outputs": [
    {
     "data": {
      "text/plain": [
       "array([1, 0], dtype=int64)"
      ]
     },
     "execution_count": 31,
     "metadata": {},
     "output_type": "execute_result"
    }
   ],
   "source": [
    "df2.IsFederalHoliday.unique()"
   ]
  },
  {
   "cell_type": "code",
   "execution_count": 32,
   "id": "df42e500",
   "metadata": {},
   "outputs": [
    {
     "data": {
      "text/plain": [
       "array(['N', 'Y'], dtype=object)"
      ]
     },
     "execution_count": 32,
     "metadata": {},
     "output_type": "execute_result"
    }
   ],
   "source": [
    "df2.IsLastDayOfMonth.unique()"
   ]
  },
  {
   "cell_type": "code",
   "execution_count": 33,
   "id": "24d6db92",
   "metadata": {},
   "outputs": [],
   "source": [
    "df2.IsLastDayOfMonth = df2.IsLastDayOfMonth.apply(lambda x : 1 if x == 'Y' else 0)"
   ]
  },
  {
   "cell_type": "code",
   "execution_count": 34,
   "id": "471b4e6d",
   "metadata": {},
   "outputs": [
    {
     "data": {
      "text/plain": [
       "array([0, 1], dtype=int64)"
      ]
     },
     "execution_count": 34,
     "metadata": {},
     "output_type": "execute_result"
    }
   ],
   "source": [
    "df2.IsLastDayOfMonth.unique()"
   ]
  },
  {
   "cell_type": "code",
   "execution_count": 35,
   "id": "42661bff",
   "metadata": {},
   "outputs": [
    {
     "data": {
      "text/plain": [
       "array(['Y', 'N', ' N'], dtype=object)"
      ]
     },
     "execution_count": 35,
     "metadata": {},
     "output_type": "execute_result"
    }
   ],
   "source": [
    "df2.IsWeekday.unique()"
   ]
  },
  {
   "cell_type": "code",
   "execution_count": 36,
   "id": "f5f7fa97",
   "metadata": {},
   "outputs": [],
   "source": [
    "df2.IsWeekday = df2.IsWeekday.apply(lambda x : 1 if x == 'Y' else 0)"
   ]
  },
  {
   "cell_type": "code",
   "execution_count": 37,
   "id": "c50f6325",
   "metadata": {},
   "outputs": [
    {
     "data": {
      "text/plain": [
       "array([1, 0], dtype=int64)"
      ]
     },
     "execution_count": 37,
     "metadata": {},
     "output_type": "execute_result"
    }
   ],
   "source": [
    "df2.IsWeekday.unique()"
   ]
  },
  {
   "cell_type": "code",
   "execution_count": 38,
   "id": "68ed468a",
   "metadata": {},
   "outputs": [
    {
     "data": {
      "text/plain": [
       "array(['N', 'Y'], dtype=object)"
      ]
     },
     "execution_count": 38,
     "metadata": {},
     "output_type": "execute_result"
    }
   ],
   "source": [
    "df2.IsWeekend.unique()"
   ]
  },
  {
   "cell_type": "code",
   "execution_count": 39,
   "id": "99e8427c",
   "metadata": {},
   "outputs": [],
   "source": [
    "df2.IsWeekend = df2.IsWeekend.apply(lambda x : 1 if x == 'Y' else 0)"
   ]
  },
  {
   "cell_type": "code",
   "execution_count": 40,
   "id": "5934a275",
   "metadata": {},
   "outputs": [
    {
     "data": {
      "text/plain": [
       "array([0, 1], dtype=int64)"
      ]
     },
     "execution_count": 40,
     "metadata": {},
     "output_type": "execute_result"
    }
   ],
   "source": [
    "df2.IsWeekend.unique()"
   ]
  },
  {
   "cell_type": "code",
   "execution_count": 41,
   "id": "9629f3f0",
   "metadata": {},
   "outputs": [
    {
     "data": {
      "text/plain": [
       "array(['N', 'Y'], dtype=object)"
      ]
     },
     "execution_count": 41,
     "metadata": {},
     "output_type": "execute_result"
    }
   ],
   "source": [
    "df2.IsWorkday.unique()"
   ]
  },
  {
   "cell_type": "code",
   "execution_count": 42,
   "id": "12456a28",
   "metadata": {},
   "outputs": [],
   "source": [
    "df2.IsWorkday = df2.IsWorkday.apply(lambda x : 1 if x == 'Y' else 0)"
   ]
  },
  {
   "cell_type": "code",
   "execution_count": 43,
   "id": "1aaac7df",
   "metadata": {},
   "outputs": [
    {
     "data": {
      "text/plain": [
       "array([0, 1], dtype=int64)"
      ]
     },
     "execution_count": 43,
     "metadata": {},
     "output_type": "execute_result"
    }
   ],
   "source": [
    "df2.IsWorkday.unique()"
   ]
  },
  {
   "cell_type": "code",
   "execution_count": 44,
   "id": "fff9e1ea",
   "metadata": {},
   "outputs": [
    {
     "data": {
      "text/plain": [
       "array([7], dtype=int64)"
      ]
     },
     "execution_count": 44,
     "metadata": {},
     "output_type": "execute_result"
    }
   ],
   "source": [
    "df2.MonthNumberOfYear.unique()"
   ]
  },
  {
   "cell_type": "code",
   "execution_count": 45,
   "id": "3b74a871",
   "metadata": {},
   "outputs": [
    {
     "data": {
      "text/html": [
       "<div>\n",
       "<style scoped>\n",
       "    .dataframe tbody tr th:only-of-type {\n",
       "        vertical-align: middle;\n",
       "    }\n",
       "\n",
       "    .dataframe tbody tr th {\n",
       "        vertical-align: top;\n",
       "    }\n",
       "\n",
       "    .dataframe thead th {\n",
       "        text-align: right;\n",
       "    }\n",
       "</style>\n",
       "<table border=\"1\" class=\"dataframe\">\n",
       "  <thead>\n",
       "    <tr style=\"text-align: right;\">\n",
       "      <th></th>\n",
       "      <th>Full_Name</th>\n",
       "      <th>organisation_key</th>\n",
       "      <th>person_learner_key</th>\n",
       "      <th>gender_key</th>\n",
       "      <th>Present</th>\n",
       "      <th>Gender_Code</th>\n",
       "      <th>Student_Status</th>\n",
       "      <th>Behaviour_Points</th>\n",
       "      <th>IsBankHoliday</th>\n",
       "      <th>IsCompanyHoliday</th>\n",
       "      <th>IsFederalHoliday</th>\n",
       "      <th>IsLastDayOfMonth</th>\n",
       "      <th>IsWeekday</th>\n",
       "      <th>IsWeekend</th>\n",
       "      <th>IsWorkday</th>\n",
       "    </tr>\n",
       "  </thead>\n",
       "  <tbody>\n",
       "    <tr>\n",
       "      <th>0</th>\n",
       "      <td>Aadam Ali</td>\n",
       "      <td>2</td>\n",
       "      <td>2531</td>\n",
       "      <td>1</td>\n",
       "      <td>0</td>\n",
       "      <td>1</td>\n",
       "      <td>1</td>\n",
       "      <td>0.0</td>\n",
       "      <td>0</td>\n",
       "      <td>1</td>\n",
       "      <td>1</td>\n",
       "      <td>0</td>\n",
       "      <td>1</td>\n",
       "      <td>0</td>\n",
       "      <td>0</td>\n",
       "    </tr>\n",
       "    <tr>\n",
       "      <th>1</th>\n",
       "      <td>Aadam Ali</td>\n",
       "      <td>2</td>\n",
       "      <td>2531</td>\n",
       "      <td>1</td>\n",
       "      <td>0</td>\n",
       "      <td>1</td>\n",
       "      <td>1</td>\n",
       "      <td>0.0</td>\n",
       "      <td>0</td>\n",
       "      <td>1</td>\n",
       "      <td>1</td>\n",
       "      <td>1</td>\n",
       "      <td>1</td>\n",
       "      <td>0</td>\n",
       "      <td>0</td>\n",
       "    </tr>\n",
       "    <tr>\n",
       "      <th>2</th>\n",
       "      <td>Aadam Ali</td>\n",
       "      <td>2</td>\n",
       "      <td>2531</td>\n",
       "      <td>1</td>\n",
       "      <td>1</td>\n",
       "      <td>1</td>\n",
       "      <td>1</td>\n",
       "      <td>1.0</td>\n",
       "      <td>0</td>\n",
       "      <td>0</td>\n",
       "      <td>0</td>\n",
       "      <td>0</td>\n",
       "      <td>1</td>\n",
       "      <td>0</td>\n",
       "      <td>1</td>\n",
       "    </tr>\n",
       "    <tr>\n",
       "      <th>3</th>\n",
       "      <td>Aadam Ali</td>\n",
       "      <td>2</td>\n",
       "      <td>2531</td>\n",
       "      <td>1</td>\n",
       "      <td>0</td>\n",
       "      <td>1</td>\n",
       "      <td>1</td>\n",
       "      <td>1.0</td>\n",
       "      <td>0</td>\n",
       "      <td>0</td>\n",
       "      <td>0</td>\n",
       "      <td>1</td>\n",
       "      <td>1</td>\n",
       "      <td>0</td>\n",
       "      <td>1</td>\n",
       "    </tr>\n",
       "    <tr>\n",
       "      <th>4</th>\n",
       "      <td>Aadam Ali</td>\n",
       "      <td>2</td>\n",
       "      <td>2531</td>\n",
       "      <td>1</td>\n",
       "      <td>1</td>\n",
       "      <td>1</td>\n",
       "      <td>1</td>\n",
       "      <td>2.0</td>\n",
       "      <td>0</td>\n",
       "      <td>0</td>\n",
       "      <td>0</td>\n",
       "      <td>0</td>\n",
       "      <td>1</td>\n",
       "      <td>0</td>\n",
       "      <td>1</td>\n",
       "    </tr>\n",
       "    <tr>\n",
       "      <th>...</th>\n",
       "      <td>...</td>\n",
       "      <td>...</td>\n",
       "      <td>...</td>\n",
       "      <td>...</td>\n",
       "      <td>...</td>\n",
       "      <td>...</td>\n",
       "      <td>...</td>\n",
       "      <td>...</td>\n",
       "      <td>...</td>\n",
       "      <td>...</td>\n",
       "      <td>...</td>\n",
       "      <td>...</td>\n",
       "      <td>...</td>\n",
       "      <td>...</td>\n",
       "      <td>...</td>\n",
       "    </tr>\n",
       "    <tr>\n",
       "      <th>10603</th>\n",
       "      <td>Zoya Hussain</td>\n",
       "      <td>1</td>\n",
       "      <td>1246</td>\n",
       "      <td>2</td>\n",
       "      <td>1</td>\n",
       "      <td>0</td>\n",
       "      <td>1</td>\n",
       "      <td>NaN</td>\n",
       "      <td>0</td>\n",
       "      <td>0</td>\n",
       "      <td>0</td>\n",
       "      <td>1</td>\n",
       "      <td>0</td>\n",
       "      <td>1</td>\n",
       "      <td>0</td>\n",
       "    </tr>\n",
       "    <tr>\n",
       "      <th>10604</th>\n",
       "      <td>Zoya Rahman</td>\n",
       "      <td>4</td>\n",
       "      <td>4469</td>\n",
       "      <td>2</td>\n",
       "      <td>0</td>\n",
       "      <td>0</td>\n",
       "      <td>1</td>\n",
       "      <td>1.0</td>\n",
       "      <td>0</td>\n",
       "      <td>1</td>\n",
       "      <td>1</td>\n",
       "      <td>0</td>\n",
       "      <td>1</td>\n",
       "      <td>0</td>\n",
       "      <td>0</td>\n",
       "    </tr>\n",
       "    <tr>\n",
       "      <th>10605</th>\n",
       "      <td>Zoya Rahman</td>\n",
       "      <td>4</td>\n",
       "      <td>4469</td>\n",
       "      <td>2</td>\n",
       "      <td>1</td>\n",
       "      <td>0</td>\n",
       "      <td>1</td>\n",
       "      <td>1.0</td>\n",
       "      <td>0</td>\n",
       "      <td>0</td>\n",
       "      <td>0</td>\n",
       "      <td>1</td>\n",
       "      <td>1</td>\n",
       "      <td>0</td>\n",
       "      <td>1</td>\n",
       "    </tr>\n",
       "    <tr>\n",
       "      <th>10606</th>\n",
       "      <td>Zoya Waseem</td>\n",
       "      <td>5</td>\n",
       "      <td>4482</td>\n",
       "      <td>2</td>\n",
       "      <td>1</td>\n",
       "      <td>0</td>\n",
       "      <td>1</td>\n",
       "      <td>NaN</td>\n",
       "      <td>0</td>\n",
       "      <td>0</td>\n",
       "      <td>0</td>\n",
       "      <td>0</td>\n",
       "      <td>1</td>\n",
       "      <td>0</td>\n",
       "      <td>1</td>\n",
       "    </tr>\n",
       "    <tr>\n",
       "      <th>10607</th>\n",
       "      <td>Zoya Waseem</td>\n",
       "      <td>5</td>\n",
       "      <td>4482</td>\n",
       "      <td>2</td>\n",
       "      <td>0</td>\n",
       "      <td>0</td>\n",
       "      <td>1</td>\n",
       "      <td>NaN</td>\n",
       "      <td>0</td>\n",
       "      <td>0</td>\n",
       "      <td>0</td>\n",
       "      <td>1</td>\n",
       "      <td>1</td>\n",
       "      <td>0</td>\n",
       "      <td>1</td>\n",
       "    </tr>\n",
       "  </tbody>\n",
       "</table>\n",
       "<p>10608 rows × 15 columns</p>\n",
       "</div>"
      ],
      "text/plain": [
       "          Full_Name  organisation_key  person_learner_key  gender_key  \\\n",
       "0         Aadam Ali                 2                2531           1   \n",
       "1         Aadam Ali                 2                2531           1   \n",
       "2         Aadam Ali                 2                2531           1   \n",
       "3         Aadam Ali                 2                2531           1   \n",
       "4         Aadam Ali                 2                2531           1   \n",
       "...             ...               ...                 ...         ...   \n",
       "10603  Zoya Hussain                 1                1246           2   \n",
       "10604   Zoya Rahman                 4                4469           2   \n",
       "10605   Zoya Rahman                 4                4469           2   \n",
       "10606   Zoya Waseem                 5                4482           2   \n",
       "10607   Zoya Waseem                 5                4482           2   \n",
       "\n",
       "       Present  Gender_Code  Student_Status  Behaviour_Points  IsBankHoliday  \\\n",
       "0            0            1               1               0.0              0   \n",
       "1            0            1               1               0.0              0   \n",
       "2            1            1               1               1.0              0   \n",
       "3            0            1               1               1.0              0   \n",
       "4            1            1               1               2.0              0   \n",
       "...        ...          ...             ...               ...            ...   \n",
       "10603        1            0               1               NaN              0   \n",
       "10604        0            0               1               1.0              0   \n",
       "10605        1            0               1               1.0              0   \n",
       "10606        1            0               1               NaN              0   \n",
       "10607        0            0               1               NaN              0   \n",
       "\n",
       "       IsCompanyHoliday  IsFederalHoliday  IsLastDayOfMonth  IsWeekday  \\\n",
       "0                     1                 1                 0          1   \n",
       "1                     1                 1                 1          1   \n",
       "2                     0                 0                 0          1   \n",
       "3                     0                 0                 1          1   \n",
       "4                     0                 0                 0          1   \n",
       "...                 ...               ...               ...        ...   \n",
       "10603                 0                 0                 1          0   \n",
       "10604                 1                 1                 0          1   \n",
       "10605                 0                 0                 1          1   \n",
       "10606                 0                 0                 0          1   \n",
       "10607                 0                 0                 1          1   \n",
       "\n",
       "       IsWeekend  IsWorkday  \n",
       "0              0          0  \n",
       "1              0          0  \n",
       "2              0          1  \n",
       "3              0          1  \n",
       "4              0          1  \n",
       "...          ...        ...  \n",
       "10603          1          0  \n",
       "10604          0          0  \n",
       "10605          0          1  \n",
       "10606          0          1  \n",
       "10607          0          1  \n",
       "\n",
       "[10608 rows x 15 columns]"
      ]
     },
     "execution_count": 45,
     "metadata": {},
     "output_type": "execute_result"
    }
   ],
   "source": [
    "df3 = df2.drop(['MonthNumberOfYear'], axis = 1) # dropping this column, as its having only single value 7\n",
    "df3"
   ]
  },
  {
   "cell_type": "code",
   "execution_count": 46,
   "id": "0edc6df3",
   "metadata": {},
   "outputs": [
    {
     "data": {
      "text/plain": [
       "Full_Name              object\n",
       "organisation_key        int64\n",
       "person_learner_key      int64\n",
       "gender_key              int64\n",
       "Present                 int64\n",
       "Gender_Code             int64\n",
       "Student_Status          int64\n",
       "Behaviour_Points      float64\n",
       "IsBankHoliday           int64\n",
       "IsCompanyHoliday        int64\n",
       "IsFederalHoliday        int64\n",
       "IsLastDayOfMonth        int64\n",
       "IsWeekday               int64\n",
       "IsWeekend               int64\n",
       "IsWorkday               int64\n",
       "dtype: object"
      ]
     },
     "execution_count": 46,
     "metadata": {},
     "output_type": "execute_result"
    }
   ],
   "source": [
    "df3.dtypes # All features are numerical except Full_Name column"
   ]
  },
  {
   "cell_type": "code",
   "execution_count": 47,
   "id": "44ed9518",
   "metadata": {},
   "outputs": [
    {
     "data": {
      "text/plain": [
       "Full_Name                0\n",
       "organisation_key         0\n",
       "person_learner_key       0\n",
       "gender_key               0\n",
       "Present                  0\n",
       "Gender_Code              0\n",
       "Student_Status           0\n",
       "Behaviour_Points      2700\n",
       "IsBankHoliday            0\n",
       "IsCompanyHoliday         0\n",
       "IsFederalHoliday         0\n",
       "IsLastDayOfMonth         0\n",
       "IsWeekday                0\n",
       "IsWeekend                0\n",
       "IsWorkday                0\n",
       "MonthNumberOfYear        0\n",
       "dtype: int64"
      ]
     },
     "execution_count": 47,
     "metadata": {},
     "output_type": "execute_result"
    }
   ],
   "source": [
    "df2.isnull().sum()"
   ]
  },
  {
   "cell_type": "code",
   "execution_count": 48,
   "id": "5c1c7b18",
   "metadata": {},
   "outputs": [
    {
     "data": {
      "text/plain": [
       "1.4423368740515934"
      ]
     },
     "execution_count": 48,
     "metadata": {},
     "output_type": "execute_result"
    }
   ],
   "source": [
    "np.mean(df3.Behaviour_Points)"
   ]
  },
  {
   "cell_type": "code",
   "execution_count": 49,
   "id": "afa23888",
   "metadata": {},
   "outputs": [],
   "source": [
    "df3.Behaviour_Points.replace(to_replace = np.nan, value = 1.44, inplace=True) # NaN values replaced by mean value"
   ]
  },
  {
   "cell_type": "code",
   "execution_count": 50,
   "id": "803663be",
   "metadata": {},
   "outputs": [
    {
     "data": {
      "text/plain": [
       "array([ 0.  ,  1.  ,  2.  ,  3.  ,  4.  ,  6.  ,  1.44, 10.  ,  5.  ,\n",
       "        8.  ])"
      ]
     },
     "execution_count": 50,
     "metadata": {},
     "output_type": "execute_result"
    }
   ],
   "source": [
    "df3.Behaviour_Points.unique()"
   ]
  },
  {
   "cell_type": "code",
   "execution_count": 51,
   "id": "dfcc2707",
   "metadata": {},
   "outputs": [
    {
     "data": {
      "text/plain": [
       "1.00     2822\n",
       "1.44     2700\n",
       "0.00     2114\n",
       "2.00     1270\n",
       "3.00      858\n",
       "4.00      798\n",
       "5.00       30\n",
       "6.00        6\n",
       "10.00       6\n",
       "8.00        4\n",
       "Name: Behaviour_Points, dtype: int64"
      ]
     },
     "execution_count": 51,
     "metadata": {},
     "output_type": "execute_result"
    }
   ],
   "source": [
    "df3.Behaviour_Points.value_counts()"
   ]
  },
  {
   "cell_type": "code",
   "execution_count": 52,
   "id": "f166eb00",
   "metadata": {},
   "outputs": [
    {
     "data": {
      "text/plain": [
       "Full_Name             0\n",
       "organisation_key      0\n",
       "person_learner_key    0\n",
       "gender_key            0\n",
       "Present               0\n",
       "Gender_Code           0\n",
       "Student_Status        0\n",
       "Behaviour_Points      0\n",
       "IsBankHoliday         0\n",
       "IsCompanyHoliday      0\n",
       "IsFederalHoliday      0\n",
       "IsLastDayOfMonth      0\n",
       "IsWeekday             0\n",
       "IsWeekend             0\n",
       "IsWorkday             0\n",
       "dtype: int64"
      ]
     },
     "execution_count": 52,
     "metadata": {},
     "output_type": "execute_result"
    }
   ],
   "source": [
    "df3.isnull().sum() #No Null values are present"
   ]
  },
  {
   "cell_type": "code",
   "execution_count": 53,
   "id": "d9fe7259",
   "metadata": {},
   "outputs": [
    {
     "data": {
      "text/plain": [
       "Usman Hussain          20\n",
       "Haris Hussain          16\n",
       "Marcel Lazok           12\n",
       "Amaan Ahmed            12\n",
       "Muhammad Ali           12\n",
       "                       ..\n",
       "Jaxon-Lee Broomhall     2\n",
       "Jay Jeng                2\n",
       "Jay Rutland             2\n",
       "Jaya Bhatt              2\n",
       "Zoya Waseem             2\n",
       "Name: Full_Name, Length: 3228, dtype: int64"
      ]
     },
     "execution_count": 53,
     "metadata": {},
     "output_type": "execute_result"
    }
   ],
   "source": [
    "df3.Full_Name.value_counts()"
   ]
  },
  {
   "cell_type": "code",
   "execution_count": 54,
   "id": "52fda410",
   "metadata": {},
   "outputs": [],
   "source": [
    "count = 0\n",
    "for i in df3.Full_Name: \n",
    "        if i == i:\n",
    "            df3.Full_Name.replace(to_replace = i, value = count, inplace=True)\n",
    "            count+=1"
   ]
  },
  {
   "cell_type": "code",
   "execution_count": 55,
   "id": "c5c7cd0f",
   "metadata": {},
   "outputs": [
    {
     "data": {
      "text/plain": [
       "array([    9,    21,    23, ..., 10603, 10605, 10607], dtype=int64)"
      ]
     },
     "execution_count": 55,
     "metadata": {},
     "output_type": "execute_result"
    }
   ],
   "source": [
    "df3.Full_Name.unique()"
   ]
  },
  {
   "cell_type": "code",
   "execution_count": 56,
   "id": "877cb942",
   "metadata": {},
   "outputs": [
    {
     "data": {
      "text/html": [
       "<div>\n",
       "<style scoped>\n",
       "    .dataframe tbody tr th:only-of-type {\n",
       "        vertical-align: middle;\n",
       "    }\n",
       "\n",
       "    .dataframe tbody tr th {\n",
       "        vertical-align: top;\n",
       "    }\n",
       "\n",
       "    .dataframe thead th {\n",
       "        text-align: right;\n",
       "    }\n",
       "</style>\n",
       "<table border=\"1\" class=\"dataframe\">\n",
       "  <thead>\n",
       "    <tr style=\"text-align: right;\">\n",
       "      <th></th>\n",
       "      <th>Full_Name</th>\n",
       "      <th>organisation_key</th>\n",
       "      <th>person_learner_key</th>\n",
       "      <th>gender_key</th>\n",
       "      <th>Present</th>\n",
       "      <th>Gender_Code</th>\n",
       "      <th>Student_Status</th>\n",
       "      <th>Behaviour_Points</th>\n",
       "      <th>IsBankHoliday</th>\n",
       "      <th>IsCompanyHoliday</th>\n",
       "      <th>IsFederalHoliday</th>\n",
       "      <th>IsLastDayOfMonth</th>\n",
       "      <th>IsWeekday</th>\n",
       "      <th>IsWeekend</th>\n",
       "      <th>IsWorkday</th>\n",
       "    </tr>\n",
       "  </thead>\n",
       "  <tbody>\n",
       "    <tr>\n",
       "      <th>count</th>\n",
       "      <td>10608.000000</td>\n",
       "      <td>10608.000000</td>\n",
       "      <td>10608.000000</td>\n",
       "      <td>10608.000000</td>\n",
       "      <td>10608.000000</td>\n",
       "      <td>10608.000000</td>\n",
       "      <td>10608.000000</td>\n",
       "      <td>10608.000000</td>\n",
       "      <td>10608.0</td>\n",
       "      <td>10608.000000</td>\n",
       "      <td>10608.000000</td>\n",
       "      <td>10608.000000</td>\n",
       "      <td>10608.000000</td>\n",
       "      <td>10608.000000</td>\n",
       "      <td>10608.000000</td>\n",
       "    </tr>\n",
       "    <tr>\n",
       "      <th>mean</th>\n",
       "      <td>5305.464932</td>\n",
       "      <td>2.681938</td>\n",
       "      <td>2605.127262</td>\n",
       "      <td>1.421003</td>\n",
       "      <td>0.970683</td>\n",
       "      <td>0.578997</td>\n",
       "      <td>0.885464</td>\n",
       "      <td>1.441742</td>\n",
       "      <td>0.0</td>\n",
       "      <td>0.003865</td>\n",
       "      <td>0.003865</td>\n",
       "      <td>0.500000</td>\n",
       "      <td>0.940140</td>\n",
       "      <td>0.059860</td>\n",
       "      <td>0.936557</td>\n",
       "    </tr>\n",
       "    <tr>\n",
       "      <th>std</th>\n",
       "      <td>3062.501165</td>\n",
       "      <td>1.128196</td>\n",
       "      <td>1314.865042</td>\n",
       "      <td>0.493743</td>\n",
       "      <td>0.168703</td>\n",
       "      <td>0.493743</td>\n",
       "      <td>0.318476</td>\n",
       "      <td>1.139084</td>\n",
       "      <td>0.0</td>\n",
       "      <td>0.062052</td>\n",
       "      <td>0.062052</td>\n",
       "      <td>0.500024</td>\n",
       "      <td>0.237239</td>\n",
       "      <td>0.237239</td>\n",
       "      <td>0.243769</td>\n",
       "    </tr>\n",
       "    <tr>\n",
       "      <th>min</th>\n",
       "      <td>9.000000</td>\n",
       "      <td>1.000000</td>\n",
       "      <td>222.000000</td>\n",
       "      <td>1.000000</td>\n",
       "      <td>0.000000</td>\n",
       "      <td>0.000000</td>\n",
       "      <td>0.000000</td>\n",
       "      <td>0.000000</td>\n",
       "      <td>0.0</td>\n",
       "      <td>0.000000</td>\n",
       "      <td>0.000000</td>\n",
       "      <td>0.000000</td>\n",
       "      <td>0.000000</td>\n",
       "      <td>0.000000</td>\n",
       "      <td>0.000000</td>\n",
       "    </tr>\n",
       "    <tr>\n",
       "      <th>25%</th>\n",
       "      <td>2654.000000</td>\n",
       "      <td>2.000000</td>\n",
       "      <td>1548.750000</td>\n",
       "      <td>1.000000</td>\n",
       "      <td>1.000000</td>\n",
       "      <td>0.000000</td>\n",
       "      <td>1.000000</td>\n",
       "      <td>1.000000</td>\n",
       "      <td>0.0</td>\n",
       "      <td>0.000000</td>\n",
       "      <td>0.000000</td>\n",
       "      <td>0.000000</td>\n",
       "      <td>1.000000</td>\n",
       "      <td>0.000000</td>\n",
       "      <td>1.000000</td>\n",
       "    </tr>\n",
       "    <tr>\n",
       "      <th>50%</th>\n",
       "      <td>5305.000000</td>\n",
       "      <td>2.000000</td>\n",
       "      <td>2577.000000</td>\n",
       "      <td>1.000000</td>\n",
       "      <td>1.000000</td>\n",
       "      <td>1.000000</td>\n",
       "      <td>1.000000</td>\n",
       "      <td>1.440000</td>\n",
       "      <td>0.0</td>\n",
       "      <td>0.000000</td>\n",
       "      <td>0.000000</td>\n",
       "      <td>0.500000</td>\n",
       "      <td>1.000000</td>\n",
       "      <td>0.000000</td>\n",
       "      <td>1.000000</td>\n",
       "    </tr>\n",
       "    <tr>\n",
       "      <th>75%</th>\n",
       "      <td>7955.500000</td>\n",
       "      <td>3.000000</td>\n",
       "      <td>3795.000000</td>\n",
       "      <td>2.000000</td>\n",
       "      <td>1.000000</td>\n",
       "      <td>1.000000</td>\n",
       "      <td>1.000000</td>\n",
       "      <td>2.000000</td>\n",
       "      <td>0.0</td>\n",
       "      <td>0.000000</td>\n",
       "      <td>0.000000</td>\n",
       "      <td>1.000000</td>\n",
       "      <td>1.000000</td>\n",
       "      <td>0.000000</td>\n",
       "      <td>1.000000</td>\n",
       "    </tr>\n",
       "    <tr>\n",
       "      <th>max</th>\n",
       "      <td>10607.000000</td>\n",
       "      <td>6.000000</td>\n",
       "      <td>8567.000000</td>\n",
       "      <td>2.000000</td>\n",
       "      <td>1.000000</td>\n",
       "      <td>1.000000</td>\n",
       "      <td>1.000000</td>\n",
       "      <td>10.000000</td>\n",
       "      <td>0.0</td>\n",
       "      <td>1.000000</td>\n",
       "      <td>1.000000</td>\n",
       "      <td>1.000000</td>\n",
       "      <td>1.000000</td>\n",
       "      <td>1.000000</td>\n",
       "      <td>1.000000</td>\n",
       "    </tr>\n",
       "  </tbody>\n",
       "</table>\n",
       "</div>"
      ],
      "text/plain": [
       "          Full_Name  organisation_key  person_learner_key    gender_key  \\\n",
       "count  10608.000000      10608.000000        10608.000000  10608.000000   \n",
       "mean    5305.464932          2.681938         2605.127262      1.421003   \n",
       "std     3062.501165          1.128196         1314.865042      0.493743   \n",
       "min        9.000000          1.000000          222.000000      1.000000   \n",
       "25%     2654.000000          2.000000         1548.750000      1.000000   \n",
       "50%     5305.000000          2.000000         2577.000000      1.000000   \n",
       "75%     7955.500000          3.000000         3795.000000      2.000000   \n",
       "max    10607.000000          6.000000         8567.000000      2.000000   \n",
       "\n",
       "            Present   Gender_Code  Student_Status  Behaviour_Points  \\\n",
       "count  10608.000000  10608.000000    10608.000000      10608.000000   \n",
       "mean       0.970683      0.578997        0.885464          1.441742   \n",
       "std        0.168703      0.493743        0.318476          1.139084   \n",
       "min        0.000000      0.000000        0.000000          0.000000   \n",
       "25%        1.000000      0.000000        1.000000          1.000000   \n",
       "50%        1.000000      1.000000        1.000000          1.440000   \n",
       "75%        1.000000      1.000000        1.000000          2.000000   \n",
       "max        1.000000      1.000000        1.000000         10.000000   \n",
       "\n",
       "       IsBankHoliday  IsCompanyHoliday  IsFederalHoliday  IsLastDayOfMonth  \\\n",
       "count        10608.0      10608.000000      10608.000000      10608.000000   \n",
       "mean             0.0          0.003865          0.003865          0.500000   \n",
       "std              0.0          0.062052          0.062052          0.500024   \n",
       "min              0.0          0.000000          0.000000          0.000000   \n",
       "25%              0.0          0.000000          0.000000          0.000000   \n",
       "50%              0.0          0.000000          0.000000          0.500000   \n",
       "75%              0.0          0.000000          0.000000          1.000000   \n",
       "max              0.0          1.000000          1.000000          1.000000   \n",
       "\n",
       "          IsWeekday     IsWeekend     IsWorkday  \n",
       "count  10608.000000  10608.000000  10608.000000  \n",
       "mean       0.940140      0.059860      0.936557  \n",
       "std        0.237239      0.237239      0.243769  \n",
       "min        0.000000      0.000000      0.000000  \n",
       "25%        1.000000      0.000000      1.000000  \n",
       "50%        1.000000      0.000000      1.000000  \n",
       "75%        1.000000      0.000000      1.000000  \n",
       "max        1.000000      1.000000      1.000000  "
      ]
     },
     "execution_count": 56,
     "metadata": {},
     "output_type": "execute_result"
    }
   ],
   "source": [
    "df3.describe()"
   ]
  },
  {
   "cell_type": "code",
   "execution_count": 57,
   "id": "3a25afcc",
   "metadata": {},
   "outputs": [
    {
     "data": {
      "text/plain": [
       "Index(['Full_Name', 'organisation_key', 'person_learner_key', 'gender_key',\n",
       "       'Present', 'Gender_Code', 'Student_Status', 'Behaviour_Points',\n",
       "       'IsBankHoliday', 'IsCompanyHoliday', 'IsFederalHoliday',\n",
       "       'IsLastDayOfMonth', 'IsWeekday', 'IsWeekend', 'IsWorkday'],\n",
       "      dtype='object')"
      ]
     },
     "execution_count": 57,
     "metadata": {},
     "output_type": "execute_result"
    }
   ],
   "source": [
    "df3.columns"
   ]
  },
  {
   "cell_type": "code",
   "execution_count": 58,
   "id": "dd801ec1",
   "metadata": {},
   "outputs": [
    {
     "data": {
      "text/plain": [
       "<bound method NDFrame.head of 0        0\n",
       "1        0\n",
       "2        1\n",
       "3        0\n",
       "4        1\n",
       "        ..\n",
       "10603    1\n",
       "10604    0\n",
       "10605    1\n",
       "10606    1\n",
       "10607    0\n",
       "Name: Present, Length: 10608, dtype: int64>"
      ]
     },
     "execution_count": 58,
     "metadata": {},
     "output_type": "execute_result"
    }
   ],
   "source": [
    "y = df3.Present\n",
    "y.head"
   ]
  },
  {
   "cell_type": "code",
   "execution_count": 59,
   "id": "c60dce62",
   "metadata": {},
   "outputs": [
    {
     "data": {
      "text/html": [
       "<div>\n",
       "<style scoped>\n",
       "    .dataframe tbody tr th:only-of-type {\n",
       "        vertical-align: middle;\n",
       "    }\n",
       "\n",
       "    .dataframe tbody tr th {\n",
       "        vertical-align: top;\n",
       "    }\n",
       "\n",
       "    .dataframe thead th {\n",
       "        text-align: right;\n",
       "    }\n",
       "</style>\n",
       "<table border=\"1\" class=\"dataframe\">\n",
       "  <thead>\n",
       "    <tr style=\"text-align: right;\">\n",
       "      <th></th>\n",
       "      <th>Full_Name</th>\n",
       "      <th>organisation_key</th>\n",
       "      <th>person_learner_key</th>\n",
       "      <th>gender_key</th>\n",
       "      <th>Gender_Code</th>\n",
       "      <th>Student_Status</th>\n",
       "      <th>Behaviour_Points</th>\n",
       "      <th>IsBankHoliday</th>\n",
       "      <th>IsCompanyHoliday</th>\n",
       "      <th>IsFederalHoliday</th>\n",
       "      <th>IsLastDayOfMonth</th>\n",
       "      <th>IsWeekday</th>\n",
       "      <th>IsWeekend</th>\n",
       "      <th>IsWorkday</th>\n",
       "    </tr>\n",
       "  </thead>\n",
       "  <tbody>\n",
       "    <tr>\n",
       "      <th>0</th>\n",
       "      <td>9</td>\n",
       "      <td>2</td>\n",
       "      <td>2531</td>\n",
       "      <td>1</td>\n",
       "      <td>1</td>\n",
       "      <td>1</td>\n",
       "      <td>0.00</td>\n",
       "      <td>0</td>\n",
       "      <td>1</td>\n",
       "      <td>1</td>\n",
       "      <td>0</td>\n",
       "      <td>1</td>\n",
       "      <td>0</td>\n",
       "      <td>0</td>\n",
       "    </tr>\n",
       "    <tr>\n",
       "      <th>1</th>\n",
       "      <td>9</td>\n",
       "      <td>2</td>\n",
       "      <td>2531</td>\n",
       "      <td>1</td>\n",
       "      <td>1</td>\n",
       "      <td>1</td>\n",
       "      <td>0.00</td>\n",
       "      <td>0</td>\n",
       "      <td>1</td>\n",
       "      <td>1</td>\n",
       "      <td>1</td>\n",
       "      <td>1</td>\n",
       "      <td>0</td>\n",
       "      <td>0</td>\n",
       "    </tr>\n",
       "    <tr>\n",
       "      <th>2</th>\n",
       "      <td>9</td>\n",
       "      <td>2</td>\n",
       "      <td>2531</td>\n",
       "      <td>1</td>\n",
       "      <td>1</td>\n",
       "      <td>1</td>\n",
       "      <td>1.00</td>\n",
       "      <td>0</td>\n",
       "      <td>0</td>\n",
       "      <td>0</td>\n",
       "      <td>0</td>\n",
       "      <td>1</td>\n",
       "      <td>0</td>\n",
       "      <td>1</td>\n",
       "    </tr>\n",
       "    <tr>\n",
       "      <th>3</th>\n",
       "      <td>9</td>\n",
       "      <td>2</td>\n",
       "      <td>2531</td>\n",
       "      <td>1</td>\n",
       "      <td>1</td>\n",
       "      <td>1</td>\n",
       "      <td>1.00</td>\n",
       "      <td>0</td>\n",
       "      <td>0</td>\n",
       "      <td>0</td>\n",
       "      <td>1</td>\n",
       "      <td>1</td>\n",
       "      <td>0</td>\n",
       "      <td>1</td>\n",
       "    </tr>\n",
       "    <tr>\n",
       "      <th>4</th>\n",
       "      <td>9</td>\n",
       "      <td>2</td>\n",
       "      <td>2531</td>\n",
       "      <td>1</td>\n",
       "      <td>1</td>\n",
       "      <td>1</td>\n",
       "      <td>2.00</td>\n",
       "      <td>0</td>\n",
       "      <td>0</td>\n",
       "      <td>0</td>\n",
       "      <td>0</td>\n",
       "      <td>1</td>\n",
       "      <td>0</td>\n",
       "      <td>1</td>\n",
       "    </tr>\n",
       "    <tr>\n",
       "      <th>...</th>\n",
       "      <td>...</td>\n",
       "      <td>...</td>\n",
       "      <td>...</td>\n",
       "      <td>...</td>\n",
       "      <td>...</td>\n",
       "      <td>...</td>\n",
       "      <td>...</td>\n",
       "      <td>...</td>\n",
       "      <td>...</td>\n",
       "      <td>...</td>\n",
       "      <td>...</td>\n",
       "      <td>...</td>\n",
       "      <td>...</td>\n",
       "      <td>...</td>\n",
       "    </tr>\n",
       "    <tr>\n",
       "      <th>10603</th>\n",
       "      <td>10603</td>\n",
       "      <td>1</td>\n",
       "      <td>1246</td>\n",
       "      <td>2</td>\n",
       "      <td>0</td>\n",
       "      <td>1</td>\n",
       "      <td>1.44</td>\n",
       "      <td>0</td>\n",
       "      <td>0</td>\n",
       "      <td>0</td>\n",
       "      <td>1</td>\n",
       "      <td>0</td>\n",
       "      <td>1</td>\n",
       "      <td>0</td>\n",
       "    </tr>\n",
       "    <tr>\n",
       "      <th>10604</th>\n",
       "      <td>10605</td>\n",
       "      <td>4</td>\n",
       "      <td>4469</td>\n",
       "      <td>2</td>\n",
       "      <td>0</td>\n",
       "      <td>1</td>\n",
       "      <td>1.00</td>\n",
       "      <td>0</td>\n",
       "      <td>1</td>\n",
       "      <td>1</td>\n",
       "      <td>0</td>\n",
       "      <td>1</td>\n",
       "      <td>0</td>\n",
       "      <td>0</td>\n",
       "    </tr>\n",
       "    <tr>\n",
       "      <th>10605</th>\n",
       "      <td>10605</td>\n",
       "      <td>4</td>\n",
       "      <td>4469</td>\n",
       "      <td>2</td>\n",
       "      <td>0</td>\n",
       "      <td>1</td>\n",
       "      <td>1.00</td>\n",
       "      <td>0</td>\n",
       "      <td>0</td>\n",
       "      <td>0</td>\n",
       "      <td>1</td>\n",
       "      <td>1</td>\n",
       "      <td>0</td>\n",
       "      <td>1</td>\n",
       "    </tr>\n",
       "    <tr>\n",
       "      <th>10606</th>\n",
       "      <td>10607</td>\n",
       "      <td>5</td>\n",
       "      <td>4482</td>\n",
       "      <td>2</td>\n",
       "      <td>0</td>\n",
       "      <td>1</td>\n",
       "      <td>1.44</td>\n",
       "      <td>0</td>\n",
       "      <td>0</td>\n",
       "      <td>0</td>\n",
       "      <td>0</td>\n",
       "      <td>1</td>\n",
       "      <td>0</td>\n",
       "      <td>1</td>\n",
       "    </tr>\n",
       "    <tr>\n",
       "      <th>10607</th>\n",
       "      <td>10607</td>\n",
       "      <td>5</td>\n",
       "      <td>4482</td>\n",
       "      <td>2</td>\n",
       "      <td>0</td>\n",
       "      <td>1</td>\n",
       "      <td>1.44</td>\n",
       "      <td>0</td>\n",
       "      <td>0</td>\n",
       "      <td>0</td>\n",
       "      <td>1</td>\n",
       "      <td>1</td>\n",
       "      <td>0</td>\n",
       "      <td>1</td>\n",
       "    </tr>\n",
       "  </tbody>\n",
       "</table>\n",
       "<p>10608 rows × 14 columns</p>\n",
       "</div>"
      ],
      "text/plain": [
       "       Full_Name  organisation_key  person_learner_key  gender_key  \\\n",
       "0              9                 2                2531           1   \n",
       "1              9                 2                2531           1   \n",
       "2              9                 2                2531           1   \n",
       "3              9                 2                2531           1   \n",
       "4              9                 2                2531           1   \n",
       "...          ...               ...                 ...         ...   \n",
       "10603      10603                 1                1246           2   \n",
       "10604      10605                 4                4469           2   \n",
       "10605      10605                 4                4469           2   \n",
       "10606      10607                 5                4482           2   \n",
       "10607      10607                 5                4482           2   \n",
       "\n",
       "       Gender_Code  Student_Status  Behaviour_Points  IsBankHoliday  \\\n",
       "0                1               1              0.00              0   \n",
       "1                1               1              0.00              0   \n",
       "2                1               1              1.00              0   \n",
       "3                1               1              1.00              0   \n",
       "4                1               1              2.00              0   \n",
       "...            ...             ...               ...            ...   \n",
       "10603            0               1              1.44              0   \n",
       "10604            0               1              1.00              0   \n",
       "10605            0               1              1.00              0   \n",
       "10606            0               1              1.44              0   \n",
       "10607            0               1              1.44              0   \n",
       "\n",
       "       IsCompanyHoliday  IsFederalHoliday  IsLastDayOfMonth  IsWeekday  \\\n",
       "0                     1                 1                 0          1   \n",
       "1                     1                 1                 1          1   \n",
       "2                     0                 0                 0          1   \n",
       "3                     0                 0                 1          1   \n",
       "4                     0                 0                 0          1   \n",
       "...                 ...               ...               ...        ...   \n",
       "10603                 0                 0                 1          0   \n",
       "10604                 1                 1                 0          1   \n",
       "10605                 0                 0                 1          1   \n",
       "10606                 0                 0                 0          1   \n",
       "10607                 0                 0                 1          1   \n",
       "\n",
       "       IsWeekend  IsWorkday  \n",
       "0              0          0  \n",
       "1              0          0  \n",
       "2              0          1  \n",
       "3              0          1  \n",
       "4              0          1  \n",
       "...          ...        ...  \n",
       "10603          1          0  \n",
       "10604          0          0  \n",
       "10605          0          1  \n",
       "10606          0          1  \n",
       "10607          0          1  \n",
       "\n",
       "[10608 rows x 14 columns]"
      ]
     },
     "execution_count": 59,
     "metadata": {},
     "output_type": "execute_result"
    }
   ],
   "source": [
    "X = df3.drop(['Present'], axis = 1)\n",
    "X"
   ]
  },
  {
   "cell_type": "code",
   "execution_count": 60,
   "id": "de401192",
   "metadata": {},
   "outputs": [],
   "source": [
    "X_train, X_test, y_train, y_test = train_test_split(X, y, test_size = 0.2, random_state = 0)"
   ]
  },
  {
   "cell_type": "code",
   "execution_count": 61,
   "id": "075d6ef5",
   "metadata": {},
   "outputs": [
    {
     "data": {
      "text/plain": [
       "((8486, 14), (2122, 14), (8486,), (2122,))"
      ]
     },
     "execution_count": 61,
     "metadata": {},
     "output_type": "execute_result"
    }
   ],
   "source": [
    "X_train.shape, X_test.shape, y_train.shape, y_test.shape"
   ]
  },
  {
   "cell_type": "code",
   "execution_count": 62,
   "id": "e6c215b3",
   "metadata": {},
   "outputs": [
    {
     "name": "stderr",
     "output_type": "stream",
     "text": [
      "C:\\Users\\Vaishu\\anaconda3\\lib\\site-packages\\sklearn\\linear_model\\_logistic.py:763: ConvergenceWarning: lbfgs failed to converge (status=1):\n",
      "STOP: TOTAL NO. of ITERATIONS REACHED LIMIT.\n",
      "\n",
      "Increase the number of iterations (max_iter) or scale the data as shown in:\n",
      "    https://scikit-learn.org/stable/modules/preprocessing.html\n",
      "Please also refer to the documentation for alternative solver options:\n",
      "    https://scikit-learn.org/stable/modules/linear_model.html#logistic-regression\n",
      "  n_iter_i = _check_optimize_result(\n"
     ]
    },
    {
     "data": {
      "text/plain": [
       "0.9684260131950989"
      ]
     },
     "execution_count": 62,
     "metadata": {},
     "output_type": "execute_result"
    }
   ],
   "source": [
    "from sklearn.linear_model import LogisticRegression\n",
    "lr = LogisticRegression()\n",
    "lr.fit(X_train, y_train)\n",
    "lr.score(X_test, y_test)"
   ]
  },
  {
   "cell_type": "code",
   "execution_count": 63,
   "id": "9d9ad004",
   "metadata": {},
   "outputs": [
    {
     "name": "stdout",
     "output_type": "stream",
     "text": [
      "0.971253534401508\n",
      "0.971253534401508\n"
     ]
    }
   ],
   "source": [
    "from sklearn.tree import DecisionTreeClassifier\n",
    "dtree = DecisionTreeClassifier(random_state = 0, max_depth=4)\n",
    "dtree.fit(X_train, y_train)\n",
    "y_pred_dt = dtree.predict(X_test)\n",
    "print(dtree.score(X_test, y_test))\n",
    "acc_score = accuracy_score(y_test, y_pred_dt)\n",
    "print(acc_score)"
   ]
  },
  {
   "cell_type": "code",
   "execution_count": 64,
   "id": "b4a8a3b7",
   "metadata": {},
   "outputs": [
    {
     "data": {
      "text/plain": [
       "0.972196041470311"
      ]
     },
     "execution_count": 64,
     "metadata": {},
     "output_type": "execute_result"
    }
   ],
   "source": [
    "from sklearn.tree import DecisionTreeClassifier\n",
    "dt_ent = DecisionTreeClassifier(max_depth=6,criterion='entropy')\n",
    "dt_ent.fit(X_train,y_train)\n",
    "dt_ent.score(X_test, y_test)"
   ]
  },
  {
   "cell_type": "code",
   "execution_count": 66,
   "id": "e2d84161",
   "metadata": {},
   "outputs": [
    {
     "data": {
      "text/plain": [
       "0.969368520263902"
      ]
     },
     "execution_count": 66,
     "metadata": {},
     "output_type": "execute_result"
    }
   ],
   "source": [
    "from sklearn.ensemble import RandomForestClassifier\n",
    "rf = RandomForestClassifier()\n",
    "rf.fit(X_train, y_train)\n",
    "rf.score(X_test, y_test)"
   ]
  },
  {
   "cell_type": "code",
   "execution_count": null,
   "id": "a6adfa41",
   "metadata": {},
   "outputs": [],
   "source": [
    "# Decision Tree gives the highest accuracy."
   ]
  },
  {
   "cell_type": "code",
   "execution_count": 322,
   "id": "cccd8608",
   "metadata": {},
   "outputs": [],
   "source": []
  },
  {
   "cell_type": "code",
   "execution_count": 330,
   "id": "38576785",
   "metadata": {},
   "outputs": [],
   "source": []
  },
  {
   "cell_type": "code",
   "execution_count": null,
   "id": "04672611",
   "metadata": {},
   "outputs": [],
   "source": []
  },
  {
   "cell_type": "code",
   "execution_count": null,
   "id": "582151ba",
   "metadata": {},
   "outputs": [],
   "source": []
  },
  {
   "cell_type": "code",
   "execution_count": null,
   "id": "dc352963",
   "metadata": {},
   "outputs": [],
   "source": []
  }
 ],
 "metadata": {
  "kernelspec": {
   "display_name": "Python 3 (ipykernel)",
   "language": "python",
   "name": "python3"
  },
  "language_info": {
   "codemirror_mode": {
    "name": "ipython",
    "version": 3
   },
   "file_extension": ".py",
   "mimetype": "text/x-python",
   "name": "python",
   "nbconvert_exporter": "python",
   "pygments_lexer": "ipython3",
   "version": "3.9.7"
  }
 },
 "nbformat": 4,
 "nbformat_minor": 5
}
